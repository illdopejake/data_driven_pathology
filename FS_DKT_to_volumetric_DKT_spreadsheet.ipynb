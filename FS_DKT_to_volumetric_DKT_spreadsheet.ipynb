{
 "cells": [
  {
   "cell_type": "code",
   "execution_count": null,
   "metadata": {
    "collapsed": true
   },
   "outputs": [],
   "source": [
    "import os\n",
    "import pandas\n",
    "import difflib\n",
    "import numpy as np"
   ]
  },
  {
   "cell_type": "code",
   "execution_count": null,
   "metadata": {
    "collapsed": true
   },
   "outputs": [],
   "source": [
    "wdir = os.path.join(os.getcwd(), 'stuff')"
   ]
  },
  {
   "cell_type": "code",
   "execution_count": null,
   "metadata": {
    "collapsed": false
   },
   "outputs": [],
   "source": [
    "# load data\n",
    "adnidf = pandas.read_csv(os.path.join(wdir,'UCBERKELEYAV1451_11_14_17.csv'))\n",
    "adnidf = adnidf.sort_values(['RID','EXAMDATE'])"
   ]
  },
  {
   "cell_type": "code",
   "execution_count": null,
   "metadata": {
    "collapsed": true
   },
   "outputs": [],
   "source": [
    "# identify target columns\n",
    "# HINT: you may want to use the data dictionary to convert the columns to a more\n",
    "# comprehensible format -- otherwise the method employed in this notebook won't really work\n",
    "ctx_cols = [x for x in adnidf.columns if 'CTX_' in x and 'SIZE' not in x]\n",
    "hits = ['AMYGDALA', 'CAUDATE', 'HIPPOCAMPUS', 'PALLIDUM', 'PUTAMEN', 'THALAMUS', 'ACCUMBENS']\n",
    "subcols = [x for x in adnidf.columns if any([y in x for y in hits]) and 'SIZE' not in x]\n",
    "goodcols = ['RID'] + ctx_cols + subcols\n"
   ]
  },
  {
   "cell_type": "code",
   "execution_count": null,
   "metadata": {
    "collapsed": false
   },
   "outputs": [],
   "source": [
    "# make new spreadsheet with just the target columns\n",
    "nsdf = pandas.DataFrame(adnidf[goodcols])\n",
    "nsdf.drop(nsdf.columns[0],axis=1,inplace=True)\n",
    "nsdf.columns = nsdf.columns[:-7].tolist() + ['RIGHT_ACCUMBENS_AREA'] + nsdf.columns[-6:].tolist()"
   ]
  },
  {
   "cell_type": "code",
   "execution_count": null,
   "metadata": {
    "collapsed": false
   },
   "outputs": [],
   "source": [
    "nsdf.shape"
   ]
  },
  {
   "cell_type": "code",
   "execution_count": null,
   "metadata": {
    "collapsed": false
   },
   "outputs": [],
   "source": [
    "nsdf.dropna(inplace=True)\n",
    "nsdf.shape"
   ]
  },
  {
   "cell_type": "code",
   "execution_count": null,
   "metadata": {
    "collapsed": false
   },
   "outputs": [],
   "source": [
    "# load the spreadsheet containing the label-ROI map for the volumetric DKT atlas\n",
    "ldf = pandas.read_csv(os.path.join(wdir,'dst_labels.csv'), header=None)\n",
    "ldf.columns = ['label','ROI']\n",
    "ldf.head()"
   ]
  },
  {
   "cell_type": "code",
   "execution_count": null,
   "metadata": {
    "collapsed": false
   },
   "outputs": [],
   "source": [
    "# subcortical targets...\n",
    "ldf.ROI[70:79]"
   ]
  },
  {
   "cell_type": "code",
   "execution_count": null,
   "metadata": {
    "collapsed": true
   },
   "outputs": [],
   "source": [
    "# add hemispheric info\n",
    "lhctx = ['LH %s'%x.upper().replace(' ','') for x in ldf.ROI[:31]]\n",
    "lsc = ['LEFT %s'%x.upper().replace(' ','') for x in ldf.ROI[31:39]]\n",
    "rhctx = ['RH %s'%x.upper().replace(' ','') for x in ldf.ROI[39:70]]\n",
    "rsc = ['RIGHT %s'%x.upper().replace(' ','') for x in ldf.ROI[70:78]]\n",
    "ldf.loc[ldf.index[:78],'newlabs'] = lhctx + lsc + rhctx + rsc"
   ]
  },
  {
   "cell_type": "code",
   "execution_count": null,
   "metadata": {
    "collapsed": false
   },
   "outputs": [],
   "source": [
    "# use difflib to find the best matches for each column\n",
    "for i,row in ldf.iterrows():\n",
    "    if i < 78:\n",
    "        roi = row['newlabs']\n",
    "        match = difflib.get_close_matches(roi,nsdf.columns)\n",
    "        if len(match) == 0:\n",
    "            ldf.loc[i,'matching_lab'] = np.nan\n",
    "        else:\n",
    "            ldf.loc[i,'matching_lab'] = match[0]"
   ]
  },
  {
   "cell_type": "code",
   "execution_count": null,
   "metadata": {
    "collapsed": true
   },
   "outputs": [],
   "source": [
    "# deal with the accumbens...\n",
    "ldf.loc[ldf.index[31],'matching_lab'] = 'LEFT_ACCUMBENS_AREA'\n",
    "ldf.loc[ldf.index[33],'matching_lab'] = np.nan\n",
    "ldf.loc[ldf.index[70],'matching_lab'] = 'RIGHT_ACCUMBENS_AREA'\n",
    "ldf.loc[ldf.index[72],'matching_lab'] = np.nan"
   ]
  },
  {
   "cell_type": "code",
   "execution_count": null,
   "metadata": {
    "collapsed": false
   },
   "outputs": [],
   "source": [
    "# get rid of the ROIs that seem to be missing from the volumetric atlas..\n",
    "to_drop = [x for x in nsdf.columns if 'POLE' in x or 'BANKS' in x or 'UNKNOWN' in x]\n",
    "nsdf.drop(to_drop,axis=1,inplace=True)\n",
    "nsdf.shape"
   ]
  },
  {
   "cell_type": "code",
   "execution_count": null,
   "metadata": {
    "collapsed": true
   },
   "outputs": [],
   "source": [
    "# reindex the spreadsheet\n",
    "nsdf = nsdf.reindex(columns=ldf.matching_lab.dropna().values)"
   ]
  },
  {
   "cell_type": "code",
   "execution_count": null,
   "metadata": {
    "collapsed": false
   },
   "outputs": [],
   "source": [
    "# now deal with that weird unidentifiable ROI...\n",
    "final_cols = nsdf.columns[:33].tolist() + ['MISSING1'] + nsdf.columns[33:71].tolist() + ['MISSING2'] + nsdf.columns[71:].tolist()"
   ]
  },
  {
   "cell_type": "code",
   "execution_count": null,
   "metadata": {
    "collapsed": false
   },
   "outputs": [],
   "source": [
    "# last step!\n",
    "nsdf = nsdf.reindex(columns=final_cols)"
   ]
  },
  {
   "cell_type": "code",
   "execution_count": null,
   "metadata": {
    "collapsed": false
   },
   "outputs": [],
   "source": [
    "# how did we do?\n",
    "list(zip(nsdf.columns,ldf.ROI.tolist()))"
   ]
  }
 ],
 "metadata": {
  "anaconda-cloud": {},
  "kernelspec": {
   "display_name": "Python [conda env:py3]",
   "language": "python",
   "name": "conda-env-py3-py"
  },
  "language_info": {
   "codemirror_mode": {
    "name": "ipython",
    "version": 3
   },
   "file_extension": ".py",
   "mimetype": "text/x-python",
   "name": "python",
   "nbconvert_exporter": "python",
   "pygments_lexer": "ipython3",
   "version": "3.5.2"
  }
 },
 "nbformat": 4,
 "nbformat_minor": 2
}
